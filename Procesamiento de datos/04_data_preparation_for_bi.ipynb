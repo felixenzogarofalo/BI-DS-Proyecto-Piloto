{
 "cells": [
  {
   "cell_type": "markdown",
   "id": "9e262d47-d891-4573-a630-9eecb01cb885",
   "metadata": {},
   "source": [
    "<b><h1 align=\"center\">Data Preparation for BI</h1></b>\n",
    "<b><h1 align=\"center\">Preparación de datos para Inteligencia de Negocio</h1></b>\n",
    "</i>\n",
    "\n",
    "\n",
    "\n",
    "---\n",
    "\n",
    "Como parte de la etapa final de este proyecto ser creará un tablero de Power BI para hacer semiento de las métricas e indicadores más importantes para el modelo de negocio. Para lograr extraer conocimiento realmente útil en necesario hacer cierto tratamiento a los datos disponibles. Si bien es cierto que este tratamiento puede llevarse a cabo directamente, hasta cierto punto, dentro de la herramienta de Business Intelligence, se opta por crear un cuaderno específico para dicho tratamiento. \n",
    "\n",
    "Esto tiene con ventaja que se sigue el mismo ambiente para el procesamiento de datos utilizados para la extración, transformación y carga de datos del modelo predictivo."
   ]
  },
  {
   "cell_type": "markdown",
   "id": "38481e2c-9ff1-42e9-b9b2-1b46778738cf",
   "metadata": {},
   "source": [
    "## Cargas iniciales"
   ]
  },
  {
   "cell_type": "code",
   "execution_count": 155,
   "id": "8474a305-b18a-42cf-8bd2-d2e4a231bfaa",
   "metadata": {},
   "outputs": [],
   "source": [
    "import numpy as np\n",
    "import pandas as pd\n",
    "from datetime import date"
   ]
  },
  {
   "cell_type": "code",
   "execution_count": 156,
   "id": "102fa3c6-8575-4f81-a941-62f39639f910",
   "metadata": {},
   "outputs": [],
   "source": [
    "# Cargar datos\n",
    "df = pd.read_hdf(\"Data/data.h5\", key=\"ventas\", mode=\"r\")\n",
    "df = df.set_index(\"Fec. Fact. Venta\")"
   ]
  },
  {
   "cell_type": "code",
   "execution_count": 157,
   "id": "630e9518-b0e5-47e7-bef8-49d0e9373331",
   "metadata": {},
   "outputs": [
    {
     "data": {
      "text/plain": [
       "Fec. Fact. Venta\n",
       "2010-01-08                              CDV CONSTRUCTORA LTDA. \n",
       "2010-01-08    RICARDO ANTONIO CONCHA SILVA ARQ. Y SERV. INMO...\n",
       "2010-01-08      VIDEOCORP INGENIERIA Y TELECOMUNICACIONES S.A. \n",
       "2010-01-08      VIDEOCORP INGENIERIA Y TELECOMUNICACIONES S.A. \n",
       "2010-01-08      VIDEOCORP INGENIERIA Y TELECOMUNICACIONES S.A. \n",
       "Name: Cliente, dtype: object"
      ]
     },
     "execution_count": 157,
     "metadata": {},
     "output_type": "execute_result"
    }
   ],
   "source": [
    "df[\"Cliente\"].head()"
   ]
  },
  {
   "cell_type": "markdown",
   "id": "f3b1e92b-880b-42d6-945c-94fa6119e5c2",
   "metadata": {},
   "source": [
    "## Indentificación de clientes 80/20\n",
    "\n",
    "Tal como su nombre lo indica, los clinetes 80/20 son aquellos clientes responsable por el 80% de las ventas (aproximadamente) y que suelen representar el 20% de la lista total de clientes (aproximadamente). No todos los años cada cliente compra la misma cantidad. Por ello se utiliza una histórico de los últimos 3 años para identificar a los clientes pertenecientes de esta categoría."
   ]
  },
  {
   "cell_type": "code",
   "execution_count": 158,
   "id": "60580780-5bc0-4e7c-9774-6b680f0c6d31",
   "metadata": {},
   "outputs": [
    {
     "data": {
      "text/plain": [
       "Cliente\n",
       "2D INGENIEROS CONSULTORES LIMITADA               6599256.0\n",
       "303 EDITORIALES S.A.                             1391197.0\n",
       "360 PROYECTO DE INGENIERÍA LIMITADA              1495361.0\n",
       "3C PROPIEDADES GESTION INMOBILIARIA LIMITADA       73800.0\n",
       "3L INGENIERIA SPA                                 822800.0\n",
       "Name: Valor, dtype: float64"
      ]
     },
     "execution_count": 158,
     "metadata": {},
     "output_type": "execute_result"
    }
   ],
   "source": [
    "# Últimos 3 años\n",
    "last_years = df.loc[date(2019,1,1):date(2021,1,1)]\n",
    "\n",
    "by_client = last_years.groupby(\"Cliente\").sum()\n",
    "by_client[\"Valor\"].head()"
   ]
  },
  {
   "cell_type": "code",
   "execution_count": 159,
   "id": "a76cc781-b22f-4783-9d70-9c46c8aa5c60",
   "metadata": {},
   "outputs": [
    {
     "name": "stdout",
     "output_type": "stream",
     "text": [
      "Los clientes responsables del 80% de las ventas son 328.\n",
      "Estos representan un 16.1% del total de clientes.\n"
     ]
    }
   ],
   "source": [
    "# Clientes 80/20\n",
    "total_sell = by_client[\"Valor\"].sum()\n",
    "clients = by_client[\"Valor\"].sort_values(ascending=False).index\n",
    "sell_cum = 0\n",
    "main_clients = []\n",
    "for i, val in enumerate(by_client[\"Valor\"].sort_values(ascending=False)):\n",
    "    # Sumar hasta que se alcance el 80% de la venta\n",
    "    if sell_cum / total_sell < 0.8:\n",
    "        sell_cum += val\n",
    "        main_clients.append(clients[i])\n",
    "        \n",
    "print(f\"Los clientes responsables del 80% de las ventas son {len(main_clients)}.\")\n",
    "print(f\"Estos representan un {round(100*len(main_clients)/len(clients),1)}% del total de clientes.\") "
   ]
  },
  {
   "cell_type": "code",
   "execution_count": 160,
   "id": "9ffca8a5-4a57-4486-99f8-f70464a00ea4",
   "metadata": {},
   "outputs": [],
   "source": [
    "# Guardemos esta etiqueta en la base de datos\n",
    "df[\"80/20\"] = [True if client in main_clients else False for client in df[\"Cliente\"]]"
   ]
  },
  {
   "cell_type": "markdown",
   "id": "7c944ba5-5716-4bbf-b310-5223deeac113",
   "metadata": {},
   "source": [
    "## Renovaciones"
   ]
  },
  {
   "cell_type": "code",
   "execution_count": 161,
   "id": "79c22445-5811-46a4-a488-2a89c00d0267",
   "metadata": {},
   "outputs": [],
   "source": [
    "df[\"New/Renew\"] = [\"Renew\" if not desc.find(\"Renew\") == -1\n",
    "                   else \"Renew\" if not desc.find(\"RENOVA\") == -1\n",
    "                   else \"Renew\" if not desc.find(\"RENEW\") == -1\n",
    "                   else \"New\"\n",
    "                   for desc in df[\"Descripción\"]]"
   ]
  },
  {
   "cell_type": "markdown",
   "id": "8fc8a5e3-5cb7-4ddf-97aa-9b29c56b1979",
   "metadata": {},
   "source": [
    "## Línea de producto"
   ]
  },
  {
   "cell_type": "code",
   "execution_count": 162,
   "id": "8579c6e8-8753-4619-9a94-2c4d0ba2892c",
   "metadata": {},
   "outputs": [],
   "source": [
    "df[\"Línea\"] = [\"Autodesk\" if not group.find(\"AUTODESK\") == -1\n",
    "               else \"Consultoría\" if not group.find(\"CONSULTOR\") == -1\n",
    "               else \"Cursos\" if not group.find(\"CURSO\") == -1\n",
    "               else \"Otros\"\n",
    "               for group in df[\"Grupo\"]]"
   ]
  },
  {
   "cell_type": "code",
   "execution_count": 163,
   "id": "feea96da-f542-430f-9827-e467ada41172",
   "metadata": {},
   "outputs": [],
   "source": [
    "df[\"Línea\"] = [\"Consultoría\" if not desc.find(\"CONSULTOR\")\n",
    "               else df[\"Línea\"].iloc[i]\n",
    "               for i, desc in enumerate(df[\"Descripción\"])]"
   ]
  },
  {
   "cell_type": "code",
   "execution_count": 164,
   "id": "1956cfcc-2696-4414-85e4-1ebba06799ad",
   "metadata": {},
   "outputs": [],
   "source": [
    "df.to_csv(\"Data/bi_data.csv\")"
   ]
  }
 ],
 "metadata": {
  "kernelspec": {
   "display_name": "Python 3 (ipykernel)",
   "language": "python",
   "name": "python3"
  },
  "language_info": {
   "codemirror_mode": {
    "name": "ipython",
    "version": 3
   },
   "file_extension": ".py",
   "mimetype": "text/x-python",
   "name": "python",
   "nbconvert_exporter": "python",
   "pygments_lexer": "ipython3",
   "version": "3.7.9"
  }
 },
 "nbformat": 4,
 "nbformat_minor": 5
}
