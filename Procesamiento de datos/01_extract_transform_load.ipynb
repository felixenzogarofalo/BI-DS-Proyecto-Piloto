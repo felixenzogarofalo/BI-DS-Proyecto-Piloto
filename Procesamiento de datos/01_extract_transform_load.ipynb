{
 "cells": [
  {
   "cell_type": "markdown",
   "metadata": {
    "id": "0DBCKKslS9Nj"
   },
   "source": [
    "<b><h1 align=\"center\">Proceso ETL</h1></b>\n",
    "<b><h1 align=\"center\">Extracción, Transformación y Carga de Datos</h1></b>\n",
    "</i>\n",
    "\n",
    "\n",
    "\n",
    "---\n",
    "\n",
    "Antes de pasar a analizar los datos y crear algoritmos predictivos, debemos en primer lugar capturar los datos, transformarlos adecuadamente para evitar valores inadecuados y finalmente cargarlos en la base de datos que utilizaremos. Este proceso de extracción, transformación y carga (ETL por sus siglas en inglés) se automatiza en el presente documento.\n",
    "\n",
    "Hay tres tipos básicos de datos que serán tratados:\n",
    "- Datos de clinetes (provenientes del CRM)\n",
    "- Datos de ventas (provenientes del CRM)\n",
    "- Datos de variables macro economicas (Banco Central de Chile)\n",
    "\n",
    "En todos los casos fue necesario descargar los datos a CSV. Si bien el Banco Central de Chile tiene su propia API, esta solo está disponibles para ciertos usuarios."
   ]
  },
  {
   "cell_type": "markdown",
   "metadata": {
    "id": "pXCuqId4BHnW"
   },
   "source": [
    "## Importar bibliotecas necesarias"
   ]
  },
  {
   "cell_type": "code",
   "execution_count": 69,
   "metadata": {
    "executionInfo": {
     "elapsed": 13,
     "status": "ok",
     "timestamp": 1643398896749,
     "user": {
      "displayName": "Félix Enzo Garófalo",
      "photoUrl": "https://lh3.googleusercontent.com/a-/AOh14Gi8sj8PG0PpdSdk2bwnYHjrcOb16qt1jimp25M3Pg=s64",
      "userId": "13538841377362069380"
     },
     "user_tz": 240
    },
    "id": "ZZoP4PgiBApr"
   },
   "outputs": [],
   "source": [
    "import pandas as pd\n",
    "import numpy as np"
   ]
  },
  {
   "cell_type": "markdown",
   "metadata": {
    "id": "-4om0vgecM9f"
   },
   "source": [
    "# CLIENTES"
   ]
  },
  {
   "cell_type": "markdown",
   "metadata": {
    "id": "SqeMklvPU5ex"
   },
   "source": [
    "## Cargar datos de clientes\n",
    "Cambiar la dirección del archivo siguiente según sea necesario"
   ]
  },
  {
   "cell_type": "code",
   "execution_count": 70,
   "metadata": {
    "colab": {
     "base_uri": "https://localhost:8080/"
    },
    "executionInfo": {
     "elapsed": 32,
     "status": "ok",
     "timestamp": 1643398899598,
     "user": {
      "displayName": "Félix Enzo Garófalo",
      "photoUrl": "https://lh3.googleusercontent.com/a-/AOh14Gi8sj8PG0PpdSdk2bwnYHjrcOb16qt1jimp25M3Pg=s64",
      "userId": "13538841377362069380"
     },
     "user_tz": 240
    },
    "id": "wicN4JraUZ3H",
    "outputId": "c49a0bfd-3973-44af-d23f-ac2501cdde9b"
   },
   "outputs": [
    {
     "name": "stdout",
     "output_type": "stream",
     "text": [
      "<class 'pandas.core.frame.DataFrame'>\n",
      "RangeIndex: 87490 entries, 0 to 87489\n",
      "Data columns (total 22 columns):\n",
      " #   Column                 Non-Null Count  Dtype  \n",
      "---  ------                 --------------  -----  \n",
      " 0   Rut Cliente            64442 non-null  object \n",
      " 1   Nombre Cliente         87486 non-null  object \n",
      " 2   Nivel Soporte          34360 non-null  object \n",
      " 3   Area Cliente           67691 non-null  object \n",
      " 4   Sector Cliente         42777 non-null  object \n",
      " 5   Tipo Cliente           87486 non-null  object \n",
      " 6   Industria Cliente      83255 non-null  object \n",
      " 7   Id Cliente             87482 non-null  float64\n",
      " 8   País Cliente           87486 non-null  object \n",
      " 9   Comuna Cliente         80784 non-null  object \n",
      " 10  Ciudad Cliente         77374 non-null  object \n",
      " 11  Cargo Contacto         49136 non-null  object \n",
      " 12  Función Contacto       46971 non-null  object \n",
      " 13  Clasificación Cliente  87452 non-null  object \n",
      " 14  Categoría 3D           54706 non-null  object \n",
      " 15  Dicom                  4522 non-null   object \n",
      " 16  Productos Cliente      33433 non-null  object \n",
      " 17  Software Clientes      2 non-null      float64\n",
      " 18  Contacto Activo        77472 non-null  float64\n",
      " 19  Industria Contacto     69949 non-null  object \n",
      " 20  Asociación Cliente     14406 non-null  object \n",
      " 21  Column1                0 non-null      float64\n",
      "dtypes: float64(4), object(18)\n",
      "memory usage: 14.7+ MB\n"
     ]
    }
   ],
   "source": [
    "clientes = pd.read_csv(\"Data/clientes.csv\")\n",
    "\n",
    "clientes.info()"
   ]
  },
  {
   "cell_type": "markdown",
   "metadata": {
    "id": "Wg_BqJipdYjg"
   },
   "source": [
    "## Limpiar datos de clientes"
   ]
  },
  {
   "cell_type": "code",
   "execution_count": 71,
   "metadata": {
    "colab": {
     "base_uri": "https://localhost:8080/"
    },
    "executionInfo": {
     "elapsed": 25,
     "status": "ok",
     "timestamp": 1643398899599,
     "user": {
      "displayName": "Félix Enzo Garófalo",
      "photoUrl": "https://lh3.googleusercontent.com/a-/AOh14Gi8sj8PG0PpdSdk2bwnYHjrcOb16qt1jimp25M3Pg=s64",
      "userId": "13538841377362069380"
     },
     "user_tz": 240
    },
    "id": "l3btBcGVXRX-",
    "outputId": "19a0fe3e-9d36-482c-9c5f-2010d616a6b1"
   },
   "outputs": [
    {
     "data": {
      "text/plain": [
       "Rut Cliente              23048\n",
       "Nombre Cliente               4\n",
       "Nivel Soporte            53130\n",
       "Area Cliente             19799\n",
       "Sector Cliente           44713\n",
       "Tipo Cliente                 4\n",
       "Industria Cliente         4235\n",
       "Id Cliente                   8\n",
       "País Cliente                 4\n",
       "Comuna Cliente            6706\n",
       "Ciudad Cliente           10116\n",
       "Cargo Contacto           38354\n",
       "Función Contacto         40519\n",
       "Clasificación Cliente       38\n",
       "Categoría 3D             32784\n",
       "Dicom                    82968\n",
       "Productos Cliente        54057\n",
       "Software Clientes        87488\n",
       "Contacto Activo          10018\n",
       "Industria Contacto       17541\n",
       "Asociación Cliente       73084\n",
       "Column1                  87490\n",
       "dtype: int64"
      ]
     },
     "execution_count": 71,
     "metadata": {},
     "output_type": "execute_result"
    }
   ],
   "source": [
    "# Número de valores null por columna\n",
    "clientes.isnull().sum()"
   ]
  },
  {
   "cell_type": "markdown",
   "metadata": {
    "id": "7zAOZLeBXxIR"
   },
   "source": [
    "Existen muchos valores null. Es preferible prescindir de las columnas con un alto porcentaje de nulls y mantener únicamente las columnas con valores aceptables.\n",
    "\n",
    "Además, se ejecuta las siguientes operaciones:\n",
    "\n",
    "1.   Orderar las columnas, haciendo que el ID sea la primera\n",
    "2.   Eliminar filas donde sigan existiendo datos null\n",
    "3.   Cambiar el tipo de dato en la columna ID a \"int\""
   ]
  },
  {
   "cell_type": "code",
   "execution_count": 72,
   "metadata": {
    "colab": {
     "base_uri": "https://localhost:8080/",
     "height": 206
    },
    "executionInfo": {
     "elapsed": 19,
     "status": "ok",
     "timestamp": 1643398899599,
     "user": {
      "displayName": "Félix Enzo Garófalo",
      "photoUrl": "https://lh3.googleusercontent.com/a-/AOh14Gi8sj8PG0PpdSdk2bwnYHjrcOb16qt1jimp25M3Pg=s64",
      "userId": "13538841377362069380"
     },
     "user_tz": 240
    },
    "id": "lVLyQodcXl64",
    "outputId": "821a0817-f619-404a-9c67-5abed5224dfa"
   },
   "outputs": [
    {
     "data": {
      "text/html": [
       "<div>\n",
       "<style scoped>\n",
       "    .dataframe tbody tr th:only-of-type {\n",
       "        vertical-align: middle;\n",
       "    }\n",
       "\n",
       "    .dataframe tbody tr th {\n",
       "        vertical-align: top;\n",
       "    }\n",
       "\n",
       "    .dataframe thead th {\n",
       "        text-align: right;\n",
       "    }\n",
       "</style>\n",
       "<table border=\"1\" class=\"dataframe\">\n",
       "  <thead>\n",
       "    <tr style=\"text-align: right;\">\n",
       "      <th></th>\n",
       "      <th>Id Cliente</th>\n",
       "      <th>Nombre Cliente</th>\n",
       "      <th>Tipo Cliente</th>\n",
       "      <th>País Cliente</th>\n",
       "      <th>Clasificación Cliente</th>\n",
       "    </tr>\n",
       "  </thead>\n",
       "  <tbody>\n",
       "    <tr>\n",
       "      <th>0</th>\n",
       "      <td>34613</td>\n",
       "      <td>SEBASTIAN ANDRES YEVENES RODRIGUEZ</td>\n",
       "      <td>Activo</td>\n",
       "      <td>Chile</td>\n",
       "      <td>BRONCE</td>\n",
       "    </tr>\n",
       "    <tr>\n",
       "      <th>1</th>\n",
       "      <td>35070</td>\n",
       "      <td>UNIVERSIDAD DE CHILE</td>\n",
       "      <td>Activo</td>\n",
       "      <td>Chile</td>\n",
       "      <td>PLATINIUM</td>\n",
       "    </tr>\n",
       "    <tr>\n",
       "      <th>2</th>\n",
       "      <td>35123</td>\n",
       "      <td>UNIVERSIDAD DE CHILE</td>\n",
       "      <td>Activo</td>\n",
       "      <td>Chile</td>\n",
       "      <td>SILVER</td>\n",
       "    </tr>\n",
       "    <tr>\n",
       "      <th>3</th>\n",
       "      <td>35270</td>\n",
       "      <td>UNIVERSIDAD DE CHILE</td>\n",
       "      <td>Activo</td>\n",
       "      <td>Chile</td>\n",
       "      <td>SILVER</td>\n",
       "    </tr>\n",
       "    <tr>\n",
       "      <th>4</th>\n",
       "      <td>35808</td>\n",
       "      <td>SANTIAGO BECKDORF SOLA</td>\n",
       "      <td>Activo</td>\n",
       "      <td>Chile</td>\n",
       "      <td>BRONCE</td>\n",
       "    </tr>\n",
       "  </tbody>\n",
       "</table>\n",
       "</div>"
      ],
      "text/plain": [
       "   Id Cliente                       Nombre Cliente Tipo Cliente País Cliente  \\\n",
       "0       34613  SEBASTIAN ANDRES YEVENES RODRIGUEZ        Activo        Chile   \n",
       "1       35070                UNIVERSIDAD DE CHILE        Activo        Chile   \n",
       "2       35123                UNIVERSIDAD DE CHILE        Activo        Chile   \n",
       "3       35270                UNIVERSIDAD DE CHILE        Activo        Chile   \n",
       "4       35808              SANTIAGO BECKDORF SOLA        Activo        Chile   \n",
       "\n",
       "  Clasificación Cliente  \n",
       "0                BRONCE  \n",
       "1             PLATINIUM  \n",
       "2                SILVER  \n",
       "3                SILVER  \n",
       "4                BRONCE  "
      ]
     },
     "execution_count": 72,
     "metadata": {},
     "output_type": "execute_result"
    }
   ],
   "source": [
    "mantener_columnas = [\"Id Cliente\",\n",
    "                     \"Nombre Cliente\",\n",
    "                     \"Tipo Cliente\",\n",
    "                     \"País Cliente\",\n",
    "                     \"Clasificación Cliente\"]\n",
    "clientes = clientes[mantener_columnas].copy()\n",
    "clientes = clientes.dropna()\n",
    "clientes[\"Id Cliente\"] = clientes[\"Id Cliente\"].astype(int)\n",
    "clientes.head()"
   ]
  },
  {
   "cell_type": "code",
   "execution_count": 73,
   "metadata": {
    "colab": {
     "base_uri": "https://localhost:8080/"
    },
    "executionInfo": {
     "elapsed": 15,
     "status": "ok",
     "timestamp": 1643398899600,
     "user": {
      "displayName": "Félix Enzo Garófalo",
      "photoUrl": "https://lh3.googleusercontent.com/a-/AOh14Gi8sj8PG0PpdSdk2bwnYHjrcOb16qt1jimp25M3Pg=s64",
      "userId": "13538841377362069380"
     },
     "user_tz": 240
    },
    "id": "iwtZa84nZPHn",
    "outputId": "f7d44516-315a-492e-ceff-91f1d63b7c8d"
   },
   "outputs": [
    {
     "name": "stdout",
     "output_type": "stream",
     "text": [
      "['Activo' 'Nuevo/Existente' 'Cliente competencia']\n"
     ]
    }
   ],
   "source": [
    "# Valores posibles en la columna \"Tipo Cliente\"\n",
    "print(clientes[\"Tipo Cliente\"].unique())"
   ]
  },
  {
   "cell_type": "markdown",
   "metadata": {
    "id": "H5gtLc0haugJ"
   },
   "source": [
    "En la tabla de clientes existe una columna llamada \"Tipo Cliente\" con tres posibles valores:\n",
    "\n",
    "\n",
    "1.   Activo\n",
    "2.   Nuevo/Existente\n",
    "3.   Cliente competencia\n",
    "\n",
    "## Guardar datos procesados\n",
    "\n",
    "Utilizaremos HDFS (Hadoop Distributed File System) para crear una base de datos procesados. Esto facilitará la escalabilidad de uso de los datos a medida que su volumen aumente.\n"
   ]
  },
  {
   "cell_type": "code",
   "execution_count": 74,
   "metadata": {
    "executionInfo": {
     "elapsed": 399,
     "status": "ok",
     "timestamp": 1643398899989,
     "user": {
      "displayName": "Félix Enzo Garófalo",
      "photoUrl": "https://lh3.googleusercontent.com/a-/AOh14Gi8sj8PG0PpdSdk2bwnYHjrcOb16qt1jimp25M3Pg=s64",
      "userId": "13538841377362069380"
     },
     "user_tz": 240
    },
    "id": "L0wCZV32dT1J"
   },
   "outputs": [],
   "source": [
    "clientes.to_hdf(\"Data/data.h5\", key=\"clientes\")"
   ]
  },
  {
   "cell_type": "markdown",
   "metadata": {
    "id": "9mreMd4_hWVP"
   },
   "source": [
    "Solo para que quede como referencia, se deja a continuación el código necesario para cargar los datos desde el archivo .h5. \n",
    "En ocasiones puede ser necesario actualizar el paquete \"tables\" para que sea compatible con la versión de Pandas en uso."
   ]
  },
  {
   "cell_type": "code",
   "execution_count": 75,
   "metadata": {
    "executionInfo": {
     "elapsed": 6,
     "status": "ok",
     "timestamp": 1643398899990,
     "user": {
      "displayName": "Félix Enzo Garófalo",
      "photoUrl": "https://lh3.googleusercontent.com/a-/AOh14Gi8sj8PG0PpdSdk2bwnYHjrcOb16qt1jimp25M3Pg=s64",
      "userId": "13538841377362069380"
     },
     "user_tz": 240
    },
    "id": "mdzbvPoYdvE4"
   },
   "outputs": [],
   "source": [
    "#!pip install --upgrade tables\n",
    "#cliente_loaded = pd.read_hdf(\"Data/data.h5\", key=\"clientes\", mode=\"r\")"
   ]
  },
  {
   "cell_type": "markdown",
   "metadata": {
    "id": "BzfvlU-gD_kj"
   },
   "source": [
    "# VENTAS"
   ]
  },
  {
   "cell_type": "markdown",
   "metadata": {
    "id": "tWoqAcSZ_xkY"
   },
   "source": [
    "## Cargar datos de ventas\n",
    "\n",
    "Los datos de ventas se encuentran dispersos en archivos de ventas anuales. El hitórico va desde 2010 hasta 2021. El primer paso en este caso es cargar los datos históricos en un único DataFrame."
   ]
  },
  {
   "cell_type": "code",
   "execution_count": 76,
   "metadata": {
    "colab": {
     "base_uri": "https://localhost:8080/"
    },
    "executionInfo": {
     "elapsed": 3097,
     "status": "ok",
     "timestamp": 1643398903082,
     "user": {
      "displayName": "Félix Enzo Garófalo",
      "photoUrl": "https://lh3.googleusercontent.com/a-/AOh14Gi8sj8PG0PpdSdk2bwnYHjrcOb16qt1jimp25M3Pg=s64",
      "userId": "13538841377362069380"
     },
     "user_tz": 240
    },
    "id": "B0agOE4uf0aB",
    "outputId": "efa4139f-6af4-404d-8e18-297f9e0d6ca4"
   },
   "outputs": [
    {
     "name": "stdout",
     "output_type": "stream",
     "text": [
      "<class 'pandas.core.frame.DataFrame'>\n",
      "RangeIndex: 188826 entries, 0 to 188825\n",
      "Data columns (total 34 columns):\n",
      " #   Column                  Non-Null Count   Dtype  \n",
      "---  ------                  --------------   -----  \n",
      " 0   Factura Venta           188809 non-null  float64\n",
      " 1   Fec. Fact. Venta        188809 non-null  object \n",
      " 2   Cod. Producto           188809 non-null  object \n",
      " 3   Unnamed: 3              0 non-null       float64\n",
      " 4   Descripción             188809 non-null  object \n",
      " 5   Grupo                   188760 non-null  object \n",
      " 6   Unnamed: 6              0 non-null       float64\n",
      " 7   Subgrupo                188766 non-null  object \n",
      " 8   Serie                   148952 non-null  object \n",
      " 9   Cantidad                188809 non-null  float64\n",
      " 10  Valor                   188809 non-null  float64\n",
      " 11  Costo                   188809 non-null  float64\n",
      " 12  Margen                  188809 non-null  float64\n",
      " 13  Costo Manual            188809 non-null  float64\n",
      " 14  Recargo IVA             188809 non-null  float64\n",
      " 15  Rut                     188780 non-null  object \n",
      " 16  Cliente                 188809 non-null  object \n",
      " 17  Industria               186659 non-null  object \n",
      " 18  Vendedor                187759 non-null  object \n",
      " 19  Tipo Vendedor           187506 non-null  object \n",
      " 20  Origen solicitud        3 non-null       object \n",
      " 21  Fact. Compra            184328 non-null  float64\n",
      " 22  Fec. Fact. Compra       186306 non-null  object \n",
      " 23  Fec. Ing. Fact. Compra  186306 non-null  object \n",
      " 24  Proveedor               186306 non-null  object \n",
      " 25  OC                      186306 non-null  float64\n",
      " 26  Nota Venta              188809 non-null  float64\n",
      " 27  Descripción Nota Venta  139163 non-null  object \n",
      " 28  Región (Softland)       188016 non-null  float64\n",
      " 29  Comuna (Softland)       188584 non-null  object \n",
      " 30  Región (CRM)            186740 non-null  object \n",
      " 31  Comuna (CRM)            186740 non-null  object \n",
      " 32  Observaciones           3159 non-null    object \n",
      " 33  Se calculó el costo     188809 non-null  object \n",
      "dtypes: float64(13), object(21)\n",
      "memory usage: 49.0+ MB\n"
     ]
    }
   ],
   "source": [
    "folder = \"Data/\"\n",
    "\n",
    "df_list = [pd.read_csv(folder + f\"ventas{year}.csv\", \n",
    "                       index_col=None, \n",
    "                       header=0,\n",
    "                       thousands=\",\",\n",
    "                       dtype={'Origen solicitud': 'str', 'Observaciones': 'str'}) \n",
    "            for year in range(2010, 2022)]\n",
    "\n",
    "ventas = pd.concat(df_list, axis=0, ignore_index=True)\n",
    "\n",
    "ventas.info()"
   ]
  },
  {
   "cell_type": "code",
   "execution_count": 77,
   "metadata": {
    "colab": {
     "base_uri": "https://localhost:8080/",
     "height": 600
    },
    "executionInfo": {
     "elapsed": 7,
     "status": "ok",
     "timestamp": 1643398903082,
     "user": {
      "displayName": "Félix Enzo Garófalo",
      "photoUrl": "https://lh3.googleusercontent.com/a-/AOh14Gi8sj8PG0PpdSdk2bwnYHjrcOb16qt1jimp25M3Pg=s64",
      "userId": "13538841377362069380"
     },
     "user_tz": 240
    },
    "id": "_P852b3Bzj8A",
    "outputId": "e1760993-4b63-4354-d8b9-5921e90c454d"
   },
   "outputs": [
    {
     "data": {
      "text/html": [
       "<div>\n",
       "<style scoped>\n",
       "    .dataframe tbody tr th:only-of-type {\n",
       "        vertical-align: middle;\n",
       "    }\n",
       "\n",
       "    .dataframe tbody tr th {\n",
       "        vertical-align: top;\n",
       "    }\n",
       "\n",
       "    .dataframe thead th {\n",
       "        text-align: right;\n",
       "    }\n",
       "</style>\n",
       "<table border=\"1\" class=\"dataframe\">\n",
       "  <thead>\n",
       "    <tr style=\"text-align: right;\">\n",
       "      <th></th>\n",
       "      <th>Factura Venta</th>\n",
       "      <th>Fec. Fact. Venta</th>\n",
       "      <th>Cod. Producto</th>\n",
       "      <th>Unnamed: 3</th>\n",
       "      <th>Descripción</th>\n",
       "      <th>Grupo</th>\n",
       "      <th>Unnamed: 6</th>\n",
       "      <th>Subgrupo</th>\n",
       "      <th>Serie</th>\n",
       "      <th>Cantidad</th>\n",
       "      <th>...</th>\n",
       "      <th>Proveedor</th>\n",
       "      <th>OC</th>\n",
       "      <th>Nota Venta</th>\n",
       "      <th>Descripción Nota Venta</th>\n",
       "      <th>Región (Softland)</th>\n",
       "      <th>Comuna (Softland)</th>\n",
       "      <th>Región (CRM)</th>\n",
       "      <th>Comuna (CRM)</th>\n",
       "      <th>Observaciones</th>\n",
       "      <th>Se calculó el costo</th>\n",
       "    </tr>\n",
       "  </thead>\n",
       "  <tbody>\n",
       "    <tr>\n",
       "      <th>0</th>\n",
       "      <td>10.0</td>\n",
       "      <td>28-07-2010</td>\n",
       "      <td>LEC</td>\n",
       "      <td>NaN</td>\n",
       "      <td>DONDE DICE</td>\n",
       "      <td>GASTOS</td>\n",
       "      <td>NaN</td>\n",
       "      <td>GASTOS</td>\n",
       "      <td>NaN</td>\n",
       "      <td>1.0</td>\n",
       "      <td>...</td>\n",
       "      <td>METALURGICA SILCOSIL LTDA.</td>\n",
       "      <td>0.0</td>\n",
       "      <td>102354.0</td>\n",
       "      <td>SERV. CONSULTORIA CORRESPONDIENTE A 150 USD</td>\n",
       "      <td>NaN</td>\n",
       "      <td>NaN</td>\n",
       "      <td>NaN</td>\n",
       "      <td>NaN</td>\n",
       "      <td>NaN</td>\n",
       "      <td>Si</td>\n",
       "    </tr>\n",
       "    <tr>\n",
       "      <th>1</th>\n",
       "      <td>29001.0</td>\n",
       "      <td>08-01-2010</td>\n",
       "      <td>CE528A</td>\n",
       "      <td>NaN</td>\n",
       "      <td>IMPRESORA HP LASERJET P315 DN</td>\n",
       "      <td>IMPRESORAS HP</td>\n",
       "      <td>NaN</td>\n",
       "      <td>IMPRESORAS LASER HP</td>\n",
       "      <td>SBRBH9C4N28</td>\n",
       "      <td>1.0</td>\n",
       "      <td>...</td>\n",
       "      <td>TECNOGLOBAL S.A.</td>\n",
       "      <td>9047.0</td>\n",
       "      <td>100989.0</td>\n",
       "      <td>NaN</td>\n",
       "      <td>8.0</td>\n",
       "      <td>LOS ANGELES</td>\n",
       "      <td>Octava Región (del Bío-Bío)</td>\n",
       "      <td>Los Angeles</td>\n",
       "      <td>NaN</td>\n",
       "      <td>Si</td>\n",
       "    </tr>\n",
       "    <tr>\n",
       "      <th>2</th>\n",
       "      <td>29002.0</td>\n",
       "      <td>08-01-2010</td>\n",
       "      <td>GASTDESP</td>\n",
       "      <td>NaN</td>\n",
       "      <td>GASTOS DE DESPACHO</td>\n",
       "      <td>GASTOS</td>\n",
       "      <td>NaN</td>\n",
       "      <td>GASTOS</td>\n",
       "      <td>NaN</td>\n",
       "      <td>1.0</td>\n",
       "      <td>...</td>\n",
       "      <td>MINERA SANTO DOMINGO SCM</td>\n",
       "      <td>0.0</td>\n",
       "      <td>100980.0</td>\n",
       "      <td>NaN</td>\n",
       "      <td>13.0</td>\n",
       "      <td>HUECHURABA</td>\n",
       "      <td>Región Metropolitana (de Santiago)</td>\n",
       "      <td>Huechuraba</td>\n",
       "      <td>NaN</td>\n",
       "      <td>Si</td>\n",
       "    </tr>\n",
       "    <tr>\n",
       "      <th>3</th>\n",
       "      <td>29002.0</td>\n",
       "      <td>08-01-2010</td>\n",
       "      <td>BOND90X50-80</td>\n",
       "      <td>NaN</td>\n",
       "      <td>ROLLO PAPEL BOND 0,914 X 50 MTS 80 GR</td>\n",
       "      <td>SUSTRATOS</td>\n",
       "      <td>NaN</td>\n",
       "      <td>SUSTRATOS GENERICOS</td>\n",
       "      <td>NaN</td>\n",
       "      <td>5.0</td>\n",
       "      <td>...</td>\n",
       "      <td>NEXSYS DE CHILE S A</td>\n",
       "      <td>15276.0</td>\n",
       "      <td>100980.0</td>\n",
       "      <td>NaN</td>\n",
       "      <td>13.0</td>\n",
       "      <td>HUECHURABA</td>\n",
       "      <td>Región Metropolitana (de Santiago)</td>\n",
       "      <td>Huechuraba</td>\n",
       "      <td>NaN</td>\n",
       "      <td>Si</td>\n",
       "    </tr>\n",
       "    <tr>\n",
       "      <th>4</th>\n",
       "      <td>29002.0</td>\n",
       "      <td>08-01-2010</td>\n",
       "      <td>BOND90X50-80</td>\n",
       "      <td>NaN</td>\n",
       "      <td>ROLLO PAPEL BOND 0,914 X 50 MTS 80 GR</td>\n",
       "      <td>SUSTRATOS</td>\n",
       "      <td>NaN</td>\n",
       "      <td>SUSTRATOS GENERICOS</td>\n",
       "      <td>NaN</td>\n",
       "      <td>5.0</td>\n",
       "      <td>...</td>\n",
       "      <td>DISTRIBUIDORA DIAZOL S.A.</td>\n",
       "      <td>9045.0</td>\n",
       "      <td>100980.0</td>\n",
       "      <td>NaN</td>\n",
       "      <td>13.0</td>\n",
       "      <td>HUECHURABA</td>\n",
       "      <td>Región Metropolitana (de Santiago)</td>\n",
       "      <td>Huechuraba</td>\n",
       "      <td>NaN</td>\n",
       "      <td>Si</td>\n",
       "    </tr>\n",
       "  </tbody>\n",
       "</table>\n",
       "<p>5 rows × 34 columns</p>\n",
       "</div>"
      ],
      "text/plain": [
       "   Factura Venta Fec. Fact. Venta Cod. Producto  Unnamed: 3  \\\n",
       "0           10.0       28-07-2010           LEC         NaN   \n",
       "1        29001.0       08-01-2010        CE528A         NaN   \n",
       "2        29002.0       08-01-2010      GASTDESP         NaN   \n",
       "3        29002.0       08-01-2010  BOND90X50-80         NaN   \n",
       "4        29002.0       08-01-2010  BOND90X50-80         NaN   \n",
       "\n",
       "                              Descripción          Grupo  Unnamed: 6  \\\n",
       "0                             DONDE DICE          GASTOS         NaN   \n",
       "1          IMPRESORA HP LASERJET P315 DN   IMPRESORAS HP         NaN   \n",
       "2                     GASTOS DE DESPACHO          GASTOS         NaN   \n",
       "3  ROLLO PAPEL BOND 0,914 X 50 MTS 80 GR       SUSTRATOS         NaN   \n",
       "4  ROLLO PAPEL BOND 0,914 X 50 MTS 80 GR       SUSTRATOS         NaN   \n",
       "\n",
       "              Subgrupo        Serie  Cantidad  ...  \\\n",
       "0               GASTOS          NaN       1.0  ...   \n",
       "1  IMPRESORAS LASER HP  SBRBH9C4N28       1.0  ...   \n",
       "2               GASTOS          NaN       1.0  ...   \n",
       "3  SUSTRATOS GENERICOS          NaN       5.0  ...   \n",
       "4  SUSTRATOS GENERICOS          NaN       5.0  ...   \n",
       "\n",
       "                     Proveedor       OC  Nota Venta  \\\n",
       "0  METALURGICA SILCOSIL LTDA.       0.0    102354.0   \n",
       "1            TECNOGLOBAL S.A.    9047.0    100989.0   \n",
       "2    MINERA SANTO DOMINGO SCM       0.0    100980.0   \n",
       "3         NEXSYS DE CHILE S A   15276.0    100980.0   \n",
       "4   DISTRIBUIDORA DIAZOL S.A.    9045.0    100980.0   \n",
       "\n",
       "                         Descripción Nota Venta  Región (Softland)  \\\n",
       "0  SERV. CONSULTORIA CORRESPONDIENTE A 150 USD                 NaN   \n",
       "1                                           NaN                8.0   \n",
       "2                                           NaN               13.0   \n",
       "3                                           NaN               13.0   \n",
       "4                                           NaN               13.0   \n",
       "\n",
       "  Comuna (Softland)                        Región (CRM) Comuna (CRM)  \\\n",
       "0               NaN                                 NaN          NaN   \n",
       "1       LOS ANGELES         Octava Región (del Bío-Bío)  Los Angeles   \n",
       "2        HUECHURABA  Región Metropolitana (de Santiago)   Huechuraba   \n",
       "3        HUECHURABA  Región Metropolitana (de Santiago)   Huechuraba   \n",
       "4        HUECHURABA  Región Metropolitana (de Santiago)   Huechuraba   \n",
       "\n",
       "  Observaciones Se calculó el costo  \n",
       "0           NaN                  Si  \n",
       "1           NaN                  Si  \n",
       "2           NaN                  Si  \n",
       "3           NaN                  Si  \n",
       "4           NaN                  Si  \n",
       "\n",
       "[5 rows x 34 columns]"
      ]
     },
     "execution_count": 77,
     "metadata": {},
     "output_type": "execute_result"
    }
   ],
   "source": [
    "ventas.head()"
   ]
  },
  {
   "cell_type": "markdown",
   "metadata": {
    "id": "desJCjSyEDCd"
   },
   "source": [
    "## Limpiar datos de ventas"
   ]
  },
  {
   "cell_type": "code",
   "execution_count": 78,
   "metadata": {
    "colab": {
     "base_uri": "https://localhost:8080/"
    },
    "executionInfo": {
     "elapsed": 502,
     "status": "ok",
     "timestamp": 1643398903579,
     "user": {
      "displayName": "Félix Enzo Garófalo",
      "photoUrl": "https://lh3.googleusercontent.com/a-/AOh14Gi8sj8PG0PpdSdk2bwnYHjrcOb16qt1jimp25M3Pg=s64",
      "userId": "13538841377362069380"
     },
     "user_tz": 240
    },
    "id": "1-TFkYR6CWpu",
    "outputId": "bbedeee4-beb2-4b61-965f-9bdc5f7bc842"
   },
   "outputs": [
    {
     "data": {
      "text/plain": [
       "Factura Venta                 17\n",
       "Fec. Fact. Venta              17\n",
       "Cod. Producto                 17\n",
       "Unnamed: 3                188826\n",
       "Descripción                   17\n",
       "Grupo                         66\n",
       "Unnamed: 6                188826\n",
       "Subgrupo                      60\n",
       "Serie                      39874\n",
       "Cantidad                      17\n",
       "Valor                         17\n",
       "Costo                         17\n",
       "Margen                        17\n",
       "Costo Manual                  17\n",
       "Recargo IVA                   17\n",
       "Rut                           46\n",
       "Cliente                       17\n",
       "Industria                   2167\n",
       "Vendedor                    1067\n",
       "Tipo Vendedor               1320\n",
       "Origen solicitud          188823\n",
       "Fact. Compra                4498\n",
       "Fec. Fact. Compra           2520\n",
       "Fec. Ing. Fact. Compra      2520\n",
       "Proveedor                   2520\n",
       "OC                          2520\n",
       "Nota Venta                    17\n",
       "Descripción Nota Venta     49663\n",
       "Región (Softland)            810\n",
       "Comuna (Softland)            242\n",
       "Región (CRM)                2086\n",
       "Comuna (CRM)                2086\n",
       "Observaciones             185667\n",
       "Se calculó el costo           17\n",
       "dtype: int64"
      ]
     },
     "execution_count": 78,
     "metadata": {},
     "output_type": "execute_result"
    }
   ],
   "source": [
    "# Número de valores null por columna\n",
    "null_count_ventas = ventas.isnull().sum()\n",
    "null_count_ventas"
   ]
  },
  {
   "cell_type": "markdown",
   "metadata": {
    "id": "dr6RmyvmER_u"
   },
   "source": [
    "De la operación anterior podemos ver que existen campos con una gran cantidad de valores nulos. Aprovechándonos de este conteo vamos a establecer el criterio de prescindir de las columnas cuyo conteo de valores nulos superen los 10000 valores."
   ]
  },
  {
   "cell_type": "code",
   "execution_count": 79,
   "metadata": {
    "colab": {
     "base_uri": "https://localhost:8080/"
    },
    "executionInfo": {
     "elapsed": 3,
     "status": "ok",
     "timestamp": 1643398903579,
     "user": {
      "displayName": "Félix Enzo Garófalo",
      "photoUrl": "https://lh3.googleusercontent.com/a-/AOh14Gi8sj8PG0PpdSdk2bwnYHjrcOb16qt1jimp25M3Pg=s64",
      "userId": "13538841377362069380"
     },
     "user_tz": 240
    },
    "id": "zD1Ma4oBEJoV",
    "outputId": "d17d89bb-571b-4536-b003-5dc9333be38d"
   },
   "outputs": [
    {
     "name": "stdout",
     "output_type": "stream",
     "text": [
      "<class 'pandas.core.frame.DataFrame'>\n",
      "RangeIndex: 188826 entries, 0 to 188825\n",
      "Data columns (total 28 columns):\n",
      " #   Column                  Non-Null Count   Dtype  \n",
      "---  ------                  --------------   -----  \n",
      " 0   Factura Venta           188809 non-null  float64\n",
      " 1   Fec. Fact. Venta        188809 non-null  object \n",
      " 2   Cod. Producto           188809 non-null  object \n",
      " 3   Descripción             188809 non-null  object \n",
      " 4   Grupo                   188760 non-null  object \n",
      " 5   Subgrupo                188766 non-null  object \n",
      " 6   Cantidad                188809 non-null  float64\n",
      " 7   Valor                   188809 non-null  float64\n",
      " 8   Costo                   188809 non-null  float64\n",
      " 9   Margen                  188809 non-null  float64\n",
      " 10  Costo Manual            188809 non-null  float64\n",
      " 11  Recargo IVA             188809 non-null  float64\n",
      " 12  Rut                     188780 non-null  object \n",
      " 13  Cliente                 188809 non-null  object \n",
      " 14  Industria               186659 non-null  object \n",
      " 15  Vendedor                187759 non-null  object \n",
      " 16  Tipo Vendedor           187506 non-null  object \n",
      " 17  Fact. Compra            184328 non-null  float64\n",
      " 18  Fec. Fact. Compra       186306 non-null  object \n",
      " 19  Fec. Ing. Fact. Compra  186306 non-null  object \n",
      " 20  Proveedor               186306 non-null  object \n",
      " 21  OC                      186306 non-null  float64\n",
      " 22  Nota Venta              188809 non-null  float64\n",
      " 23  Región (Softland)       188016 non-null  float64\n",
      " 24  Comuna (Softland)       188584 non-null  object \n",
      " 25  Región (CRM)            186740 non-null  object \n",
      " 26  Comuna (CRM)            186740 non-null  object \n",
      " 27  Se calculó el costo     188809 non-null  object \n",
      "dtypes: float64(11), object(17)\n",
      "memory usage: 40.3+ MB\n"
     ]
    }
   ],
   "source": [
    "columns = null_count_ventas.index\n",
    "new_cols = [column for column in columns if null_count_ventas[column] <= 10000]\n",
    "ventas = ventas[new_cols]\n",
    "ventas.info()"
   ]
  },
  {
   "cell_type": "markdown",
   "metadata": {
    "id": "EY26wDrNHPMU"
   },
   "source": [
    "Análisando los valores, las columnas restantes con algún valor null se pueden completar los datos como sigue:\n",
    "\n",
    "\n",
    "1.   En la columna industria, se puede rellenar con \"GENERAL\" los valores nan\n",
    "2.   En la columna Vendedor se puede rellanar con \"NO APLICA\" los valores nan\n",
    "3.   Columnas \"Grupo\" y \"Subgrupo\" -> \"SIN GRUPO\"\n",
    "4.   Columnas \"Cantidad\", \"Valor\", \"Costo\", \"Margen\", \"Costo Manual\", \"Recargo IVA\" -> 0\n",
    "5.   En el caso de las fechas, rellenaremos los valores nulos utilizando el método \"Forward Fill\".\n",
    "6.   Se eliminaran las líneas donde el valor de \"Factura Venta\" sea null.\n",
    "6.   El resto de los valores null, se completará con el valor \"-1\". De tal manera que en procesos futuros que impliquen el uso de los datos, se puedan filtrar estos valores a discreción.\n",
    "\n",
    "\n"
   ]
  },
  {
   "cell_type": "code",
   "execution_count": 80,
   "metadata": {
    "executionInfo": {
     "elapsed": 2,
     "status": "ok",
     "timestamp": 1643398903580,
     "user": {
      "displayName": "Félix Enzo Garófalo",
      "photoUrl": "https://lh3.googleusercontent.com/a-/AOh14Gi8sj8PG0PpdSdk2bwnYHjrcOb16qt1jimp25M3Pg=s64",
      "userId": "13538841377362069380"
     },
     "user_tz": 240
    },
    "id": "7bTXrkKut7Pb"
   },
   "outputs": [],
   "source": [
    "def rellenar_nulls(replacement):\n",
    "    \"\"\"Rellenar valores null con valor especificado\n",
    "    Args:\n",
    "    values: diccionario con Keys representando el título de la columna\n",
    "        y Values representando el valor que sustituira null\n",
    "    Return:\n",
    "    None\n",
    "    \"\"\"\n",
    "    for col in replacement.keys():\n",
    "        ventas[col].fillna(value=replacement[col], inplace=True)"
   ]
  },
  {
   "cell_type": "code",
   "execution_count": 81,
   "metadata": {
    "executionInfo": {
     "elapsed": 919,
     "status": "ok",
     "timestamp": 1643398904497,
     "user": {
      "displayName": "Félix Enzo Garófalo",
      "photoUrl": "https://lh3.googleusercontent.com/a-/AOh14Gi8sj8PG0PpdSdk2bwnYHjrcOb16qt1jimp25M3Pg=s64",
      "userId": "13538841377362069380"
     },
     "user_tz": 240
    },
    "id": "BeikDFemvYrc"
   },
   "outputs": [],
   "source": [
    "replacement = {\"Industria\": \"GENERAL\",\n",
    "               \"Vendedor\": \"NO APLICA\",\n",
    "               \"Grupo\": \"SIN GRUPO\",\n",
    "               \"Subgrupo\": \"SIN GRUPO\",\n",
    "               \"Cantidad\": 0,\n",
    "               \"Valor\": 0,\n",
    "               \"Costo\": 0,\n",
    "               \"Margen\": 0,\n",
    "               \"Costo Manual\": 0,\n",
    "               \"Recargo IVA\": 0}\n",
    "\n",
    "rellenar_nulls(replacement)"
   ]
  },
  {
   "cell_type": "markdown",
   "metadata": {
    "id": "UKcwdSwCJXyg"
   },
   "source": [
    "## Transformación de datos\n",
    "\n",
    "Se convierten los valores de fecha a Datetime y los valores enteros a int."
   ]
  },
  {
   "cell_type": "code",
   "execution_count": 82,
   "metadata": {
    "executionInfo": {
     "elapsed": 2903,
     "status": "ok",
     "timestamp": 1643398907398,
     "user": {
      "displayName": "Félix Enzo Garófalo",
      "photoUrl": "https://lh3.googleusercontent.com/a-/AOh14Gi8sj8PG0PpdSdk2bwnYHjrcOb16qt1jimp25M3Pg=s64",
      "userId": "13538841377362069380"
     },
     "user_tz": 240
    },
    "id": "ag22x6x4E3GE"
   },
   "outputs": [],
   "source": [
    "# Rellenar fecha con valores anteriores\n",
    "fechas = [\"Fec. Fact. Venta\", \"Fec. Fact. Compra\", \"Fec. Ing. Fact. Compra\"]\n",
    "\n",
    "for fecha in fechas:\n",
    "    ## Primero debemos convertir los valores string a formato Datetime\n",
    "    ventas[fecha] = pd.to_datetime(ventas[fecha], format=\"%d-%m-%Y\")\n",
    "    ## Luego vamos a rellenar la fechas faltantes con el valor anterior\n",
    "    ventas[fecha].fillna(method=\"ffill\", inplace=True)\n",
    "\n",
    "\n",
    "# Eliminar filas donde no exista valor de \"Factura Venta\"\n",
    "ventas = ventas.drop(ventas[ventas[\"Factura Venta\"].isnull()].index)\n",
    "\n",
    "# El resto de los valores null los rellenamos con \"-1\"\n",
    "ventas.fillna(value=\"-1\", inplace=True)"
   ]
  },
  {
   "cell_type": "code",
   "execution_count": 83,
   "metadata": {
    "colab": {
     "base_uri": "https://localhost:8080/"
    },
    "executionInfo": {
     "elapsed": 5,
     "status": "ok",
     "timestamp": 1643398907399,
     "user": {
      "displayName": "Félix Enzo Garófalo",
      "photoUrl": "https://lh3.googleusercontent.com/a-/AOh14Gi8sj8PG0PpdSdk2bwnYHjrcOb16qt1jimp25M3Pg=s64",
      "userId": "13538841377362069380"
     },
     "user_tz": 240
    },
    "id": "yYDNFVNHJ7qQ",
    "outputId": "e6e08791-d4ab-45e2-9189-69a9301849b1"
   },
   "outputs": [
    {
     "name": "stdout",
     "output_type": "stream",
     "text": [
      "Factura Venta                      int64\n",
      "Fec. Fact. Venta          datetime64[ns]\n",
      "Cod. Producto                     object\n",
      "Descripción                       object\n",
      "Grupo                             object\n",
      "Subgrupo                          object\n",
      "Cantidad                         float64\n",
      "Valor                            float64\n",
      "Costo                            float64\n",
      "Margen                           float64\n",
      "Costo Manual                     float64\n",
      "Recargo IVA                      float64\n",
      "Rut                               object\n",
      "Cliente                           object\n",
      "Industria                         object\n",
      "Vendedor                          object\n",
      "Tipo Vendedor                     object\n",
      "Fact. Compra                       int64\n",
      "Fec. Fact. Compra         datetime64[ns]\n",
      "Fec. Ing. Fact. Compra    datetime64[ns]\n",
      "Proveedor                         object\n",
      "OC                                 int64\n",
      "Nota Venta                         int64\n",
      "Región (Softland)                  int64\n",
      "Comuna (Softland)                 object\n",
      "Región (CRM)                      object\n",
      "Comuna (CRM)                      object\n",
      "Se calculó el costo               object\n",
      "dtype: object\n"
     ]
    }
   ],
   "source": [
    "# Pasar a entero valores de ID\n",
    "to_integer = [\"Factura Venta\", \"Fact. Compra\", \"OC\", \"Nota Venta\", \"Región (Softland)\"]\n",
    "for column in to_integer:\n",
    "    ventas[column] = ventas[column].astype(np.int64)\n",
    "\n",
    "print(ventas.dtypes)"
   ]
  },
  {
   "cell_type": "code",
   "execution_count": 84,
   "metadata": {
    "colab": {
     "base_uri": "https://localhost:8080/"
    },
    "executionInfo": {
     "elapsed": 568,
     "status": "ok",
     "timestamp": 1643398907963,
     "user": {
      "displayName": "Félix Enzo Garófalo",
      "photoUrl": "https://lh3.googleusercontent.com/a-/AOh14Gi8sj8PG0PpdSdk2bwnYHjrcOb16qt1jimp25M3Pg=s64",
      "userId": "13538841377362069380"
     },
     "user_tz": 240
    },
    "id": "_-I7koWUmegl",
    "outputId": "0b74f1a6-35f9-49f9-dd49-fa8af715b042"
   },
   "outputs": [
    {
     "data": {
      "text/plain": [
       "Factura Venta             0\n",
       "Fec. Fact. Venta          0\n",
       "Cod. Producto             0\n",
       "Descripción               0\n",
       "Grupo                     0\n",
       "Subgrupo                  0\n",
       "Cantidad                  0\n",
       "Valor                     0\n",
       "Costo                     0\n",
       "Margen                    0\n",
       "Costo Manual              0\n",
       "Recargo IVA               0\n",
       "Rut                       0\n",
       "Cliente                   0\n",
       "Industria                 0\n",
       "Vendedor                  0\n",
       "Tipo Vendedor             0\n",
       "Fact. Compra              0\n",
       "Fec. Fact. Compra         0\n",
       "Fec. Ing. Fact. Compra    0\n",
       "Proveedor                 0\n",
       "OC                        0\n",
       "Nota Venta                0\n",
       "Región (Softland)         0\n",
       "Comuna (Softland)         0\n",
       "Región (CRM)              0\n",
       "Comuna (CRM)              0\n",
       "Se calculó el costo       0\n",
       "dtype: int64"
      ]
     },
     "execution_count": 84,
     "metadata": {},
     "output_type": "execute_result"
    }
   ],
   "source": [
    "# Número de valores null por columna\n",
    "# Solo para verificar que hemos tratado todos los datos null\n",
    "null_count_ventas = ventas.isnull().sum()\n",
    "null_count_ventas"
   ]
  },
  {
   "cell_type": "markdown",
   "metadata": {
    "id": "KSdDuwkH3J8l"
   },
   "source": [
    "Finalmente vamos a orderan lo valores según su fecha de venta."
   ]
  },
  {
   "cell_type": "code",
   "execution_count": 85,
   "metadata": {
    "colab": {
     "base_uri": "https://localhost:8080/",
     "height": 687
    },
    "executionInfo": {
     "elapsed": 4,
     "status": "ok",
     "timestamp": 1643398907964,
     "user": {
      "displayName": "Félix Enzo Garófalo",
      "photoUrl": "https://lh3.googleusercontent.com/a-/AOh14Gi8sj8PG0PpdSdk2bwnYHjrcOb16qt1jimp25M3Pg=s64",
      "userId": "13538841377362069380"
     },
     "user_tz": 240
    },
    "id": "cQBZYzhN3S33",
    "outputId": "dd6dd8a4-a4be-4299-e26d-0e8df9572315"
   },
   "outputs": [
    {
     "data": {
      "text/html": [
       "<div>\n",
       "<style scoped>\n",
       "    .dataframe tbody tr th:only-of-type {\n",
       "        vertical-align: middle;\n",
       "    }\n",
       "\n",
       "    .dataframe tbody tr th {\n",
       "        vertical-align: top;\n",
       "    }\n",
       "\n",
       "    .dataframe thead th {\n",
       "        text-align: right;\n",
       "    }\n",
       "</style>\n",
       "<table border=\"1\" class=\"dataframe\">\n",
       "  <thead>\n",
       "    <tr style=\"text-align: right;\">\n",
       "      <th></th>\n",
       "      <th>Factura Venta</th>\n",
       "      <th>Fec. Fact. Venta</th>\n",
       "      <th>Cod. Producto</th>\n",
       "      <th>Descripción</th>\n",
       "      <th>Grupo</th>\n",
       "      <th>Subgrupo</th>\n",
       "      <th>Cantidad</th>\n",
       "      <th>Valor</th>\n",
       "      <th>Costo</th>\n",
       "      <th>Margen</th>\n",
       "      <th>...</th>\n",
       "      <th>Fec. Fact. Compra</th>\n",
       "      <th>Fec. Ing. Fact. Compra</th>\n",
       "      <th>Proveedor</th>\n",
       "      <th>OC</th>\n",
       "      <th>Nota Venta</th>\n",
       "      <th>Región (Softland)</th>\n",
       "      <th>Comuna (Softland)</th>\n",
       "      <th>Región (CRM)</th>\n",
       "      <th>Comuna (CRM)</th>\n",
       "      <th>Se calculó el costo</th>\n",
       "    </tr>\n",
       "  </thead>\n",
       "  <tbody>\n",
       "    <tr>\n",
       "      <th>23</th>\n",
       "      <td>29009</td>\n",
       "      <td>2010-01-08</td>\n",
       "      <td>C9373A</td>\n",
       "      <td>TINTA AMARILLA 130ML HP 72 C9373A PARA PLOTTER...</td>\n",
       "      <td>INSUMOS HP</td>\n",
       "      <td>INSUMOS TINTAS PLOTTER HP</td>\n",
       "      <td>1.0</td>\n",
       "      <td>35165.0</td>\n",
       "      <td>30072.0</td>\n",
       "      <td>5093.0</td>\n",
       "      <td>...</td>\n",
       "      <td>2010-01-02</td>\n",
       "      <td>2010-02-02</td>\n",
       "      <td>TECNOGLOBAL S.A.</td>\n",
       "      <td>9013</td>\n",
       "      <td>100975</td>\n",
       "      <td>13</td>\n",
       "      <td>PROVIDENCIA</td>\n",
       "      <td>Región Metropolitana (de Santiago)</td>\n",
       "      <td>Providencia</td>\n",
       "      <td>Si</td>\n",
       "    </tr>\n",
       "    <tr>\n",
       "      <th>31</th>\n",
       "      <td>29013</td>\n",
       "      <td>2010-01-08</td>\n",
       "      <td>BOND60X50-80</td>\n",
       "      <td>ROLLO PAPEL BOND 60 X 50 MTS 80 GR</td>\n",
       "      <td>SUSTRATOS</td>\n",
       "      <td>SUSTRATOS GENERICOS</td>\n",
       "      <td>5.0</td>\n",
       "      <td>16000.0</td>\n",
       "      <td>12000.0</td>\n",
       "      <td>4000.0</td>\n",
       "      <td>...</td>\n",
       "      <td>2009-12-22</td>\n",
       "      <td>2009-12-23</td>\n",
       "      <td>DISTRIBUIDORA DIAZOL S.A.</td>\n",
       "      <td>9000</td>\n",
       "      <td>100994</td>\n",
       "      <td>13</td>\n",
       "      <td>SANTIAGO</td>\n",
       "      <td>Región Metropolitana (de Santiago)</td>\n",
       "      <td>Santiago</td>\n",
       "      <td>Si</td>\n",
       "    </tr>\n",
       "    <tr>\n",
       "      <th>30</th>\n",
       "      <td>29012</td>\n",
       "      <td>2010-01-08</td>\n",
       "      <td>CH337A</td>\n",
       "      <td>PLOTTER HP DESIGNJET 510 PRINTER 42\"</td>\n",
       "      <td>PLOTTER</td>\n",
       "      <td>PLOTTER CAD HP</td>\n",
       "      <td>1.0</td>\n",
       "      <td>1604948.0</td>\n",
       "      <td>1364136.0</td>\n",
       "      <td>240812.0</td>\n",
       "      <td>...</td>\n",
       "      <td>2010-01-07</td>\n",
       "      <td>2010-01-08</td>\n",
       "      <td>INGRAM MICRO CHILE S.A.</td>\n",
       "      <td>9016</td>\n",
       "      <td>100990</td>\n",
       "      <td>13</td>\n",
       "      <td>LAS CONDES</td>\n",
       "      <td>Región Metropolitana (de Santiago)</td>\n",
       "      <td>Vitacura</td>\n",
       "      <td>Si</td>\n",
       "    </tr>\n",
       "    <tr>\n",
       "      <th>29</th>\n",
       "      <td>29012</td>\n",
       "      <td>2010-01-08</td>\n",
       "      <td>BOND107X50-80</td>\n",
       "      <td>ROLLO PAPEL BOND 1,07 X 50 MTS 80 GR</td>\n",
       "      <td>SUSTRATOS</td>\n",
       "      <td>SUSTRATOS GENERICOS</td>\n",
       "      <td>1.0</td>\n",
       "      <td>1.0</td>\n",
       "      <td>4125.0</td>\n",
       "      <td>-4124.0</td>\n",
       "      <td>...</td>\n",
       "      <td>2009-11-17</td>\n",
       "      <td>2009-11-18</td>\n",
       "      <td>DISTRIBUIDORA DIAZOL S.A.</td>\n",
       "      <td>8914</td>\n",
       "      <td>100990</td>\n",
       "      <td>13</td>\n",
       "      <td>LAS CONDES</td>\n",
       "      <td>Región Metropolitana (de Santiago)</td>\n",
       "      <td>Vitacura</td>\n",
       "      <td>Si</td>\n",
       "    </tr>\n",
       "    <tr>\n",
       "      <th>28</th>\n",
       "      <td>29012</td>\n",
       "      <td>2010-01-08</td>\n",
       "      <td>044FCJ</td>\n",
       "      <td>CABLE PRINTER USB AB 1.6 MTS</td>\n",
       "      <td>HARDWARE</td>\n",
       "      <td>HARDWARE OTROS</td>\n",
       "      <td>1.0</td>\n",
       "      <td>1.0</td>\n",
       "      <td>759.0</td>\n",
       "      <td>-758.0</td>\n",
       "      <td>...</td>\n",
       "      <td>2008-12-05</td>\n",
       "      <td>2008-12-09</td>\n",
       "      <td>INGRAM MICRO CHILE S.A.</td>\n",
       "      <td>7940</td>\n",
       "      <td>100990</td>\n",
       "      <td>13</td>\n",
       "      <td>LAS CONDES</td>\n",
       "      <td>Región Metropolitana (de Santiago)</td>\n",
       "      <td>Vitacura</td>\n",
       "      <td>Si</td>\n",
       "    </tr>\n",
       "  </tbody>\n",
       "</table>\n",
       "<p>5 rows × 28 columns</p>\n",
       "</div>"
      ],
      "text/plain": [
       "    Factura Venta Fec. Fact. Venta  Cod. Producto  \\\n",
       "23          29009       2010-01-08         C9373A   \n",
       "31          29013       2010-01-08   BOND60X50-80   \n",
       "30          29012       2010-01-08         CH337A   \n",
       "29          29012       2010-01-08  BOND107X50-80   \n",
       "28          29012       2010-01-08         044FCJ   \n",
       "\n",
       "                                          Descripción       Grupo  \\\n",
       "23  TINTA AMARILLA 130ML HP 72 C9373A PARA PLOTTER...  INSUMOS HP   \n",
       "31                ROLLO PAPEL BOND 60 X 50 MTS 80 GR    SUSTRATOS   \n",
       "30              PLOTTER HP DESIGNJET 510 PRINTER 42\"      PLOTTER   \n",
       "29              ROLLO PAPEL BOND 1,07 X 50 MTS 80 GR    SUSTRATOS   \n",
       "28                      CABLE PRINTER USB AB 1.6 MTS     HARDWARE   \n",
       "\n",
       "                     Subgrupo  Cantidad      Valor      Costo    Margen  ...  \\\n",
       "23  INSUMOS TINTAS PLOTTER HP       1.0    35165.0    30072.0    5093.0  ...   \n",
       "31        SUSTRATOS GENERICOS       5.0    16000.0    12000.0    4000.0  ...   \n",
       "30             PLOTTER CAD HP       1.0  1604948.0  1364136.0  240812.0  ...   \n",
       "29        SUSTRATOS GENERICOS       1.0        1.0     4125.0   -4124.0  ...   \n",
       "28             HARDWARE OTROS       1.0        1.0      759.0    -758.0  ...   \n",
       "\n",
       "    Fec. Fact. Compra  Fec. Ing. Fact. Compra                   Proveedor  \\\n",
       "23         2010-01-02              2010-02-02           TECNOGLOBAL S.A.    \n",
       "31         2009-12-22              2009-12-23  DISTRIBUIDORA DIAZOL S.A.    \n",
       "30         2010-01-07              2010-01-08    INGRAM MICRO CHILE S.A.    \n",
       "29         2009-11-17              2009-11-18  DISTRIBUIDORA DIAZOL S.A.    \n",
       "28         2008-12-05              2008-12-09    INGRAM MICRO CHILE S.A.    \n",
       "\n",
       "      OC Nota Venta Región (Softland) Comuna (Softland)  \\\n",
       "23  9013     100975                13       PROVIDENCIA   \n",
       "31  9000     100994                13          SANTIAGO   \n",
       "30  9016     100990                13        LAS CONDES   \n",
       "29  8914     100990                13        LAS CONDES   \n",
       "28  7940     100990                13        LAS CONDES   \n",
       "\n",
       "                          Región (CRM) Comuna (CRM) Se calculó el costo  \n",
       "23  Región Metropolitana (de Santiago)  Providencia                  Si  \n",
       "31  Región Metropolitana (de Santiago)     Santiago                  Si  \n",
       "30  Región Metropolitana (de Santiago)     Vitacura                  Si  \n",
       "29  Región Metropolitana (de Santiago)     Vitacura                  Si  \n",
       "28  Región Metropolitana (de Santiago)     Vitacura                  Si  \n",
       "\n",
       "[5 rows x 28 columns]"
      ]
     },
     "execution_count": 85,
     "metadata": {},
     "output_type": "execute_result"
    }
   ],
   "source": [
    "ventas.sort_values(by=[\"Fec. Fact. Venta\"], inplace=True)\n",
    "ventas.head()"
   ]
  },
  {
   "cell_type": "markdown",
   "metadata": {
    "id": "HyNU10mnyfQN"
   },
   "source": [
    "## Guardar datos procesados\n",
    "\n",
    "Utilizaremos HDFS (Hadoop Distributed File System) para crear una base de datos procesados. Esto facilitará la escalabilidad de uso de los datos a medida que su volumen aumente."
   ]
  },
  {
   "cell_type": "code",
   "execution_count": 86,
   "metadata": {
    "executionInfo": {
     "elapsed": 1797,
     "status": "ok",
     "timestamp": 1643398909758,
     "user": {
      "displayName": "Félix Enzo Garófalo",
      "photoUrl": "https://lh3.googleusercontent.com/a-/AOh14Gi8sj8PG0PpdSdk2bwnYHjrcOb16qt1jimp25M3Pg=s64",
      "userId": "13538841377362069380"
     },
     "user_tz": 240
    },
    "id": "h9xK3SkloQ7L"
   },
   "outputs": [],
   "source": [
    "ventas.to_hdf(\"Data/data.h5\", key=\"ventas\", mode=\"w\")"
   ]
  },
  {
   "cell_type": "markdown",
   "metadata": {},
   "source": [
    "# VARIABLES MACROECONÓMICAS"
   ]
  },
  {
   "cell_type": "markdown",
   "metadata": {},
   "source": [
    "## Cargar datos de variables macroeconómicas\n",
    "Los datos fueron tomados de la pagina oficial del Banco Central de Chile y cada indicador se encuentra en un archivo CSV por separado.\n",
    "\n",
    "Antes de pasar a la unificación de estos datos en un único DataFrame, crearemos un rango de fechas para luego pasar los valores por un join. Empezaremos desde enero de 2010 hasta la fecha."
   ]
  },
  {
   "cell_type": "code",
   "execution_count": 87,
   "metadata": {},
   "outputs": [],
   "source": [
    "import datetime\n",
    "\n",
    "start = datetime.datetime.strptime(\"01-01-2010\", \"%d-%m-%Y\")\n",
    "end = datetime.datetime.strptime(\"03-02-2022\", \"%d-%m-%Y\")\n",
    "date_range = [start + datetime.timedelta(days=x) for x in range(0, (end-start).days)]\n",
    "date_range = pd.DataFrame(data=np.array(date_range), columns=[\"Fecha\"])"
   ]
  },
  {
   "cell_type": "markdown",
   "metadata": {},
   "source": [
    "Cargemos ahora cada tabla de datos macroeconómicos"
   ]
  },
  {
   "cell_type": "code",
   "execution_count": 88,
   "metadata": {},
   "outputs": [],
   "source": [
    "chp_usd = pd.read_csv(\"Data/CHPUSD.csv\")\n",
    "ipc = pd.read_csv(\"Data/IPC.csv\")\n",
    "imacec = pd.read_csv(\"Data/IMACEC.csv\")\n",
    "pib = pd.read_csv(\"Data/PIB.csv\")\n",
    "tcm = pd.read_csv(\"Data/TCM.csv\")\n",
    "tdn = pd.read_csv(\"Data/TDN.csv\")\n",
    "uf = pd.read_csv(\"Data/UF.csv\")"
   ]
  },
  {
   "cell_type": "markdown",
   "metadata": {},
   "source": [
    "## Transformación de datos"
   ]
  },
  {
   "cell_type": "markdown",
   "metadata": {},
   "source": [
    "Ahora debemos formatear adecuadamente las fechas que se encuentra en formato de cadena de texto. A fin de evitar problemas al pasar el formato a Datetime, vamos a agregar ceros a la izquierda de los meses y día cuando tengan un solo dígito."
   ]
  },
  {
   "cell_type": "code",
   "execution_count": 89,
   "metadata": {},
   "outputs": [],
   "source": [
    "# Función para agregar ceros a la izquierda en mes y día\n",
    "def zero_padded_date(date):\n",
    "    split = date.split(\"/\")\n",
    "    if len(split[0]) < 2:\n",
    "        split[0] = \"0\" + split[0]\n",
    "    if len(split[1]) < 2:\n",
    "        split[1] = \"0\" + split[1]\n",
    "    return f\"{split[0]}/{split[1]}/{split[2]}\""
   ]
  },
  {
   "cell_type": "markdown",
   "metadata": {},
   "source": [
    "Vamos a hacer las conversiones necesarias para cada tabla previamente cargada."
   ]
  },
  {
   "cell_type": "code",
   "execution_count": 90,
   "metadata": {},
   "outputs": [
    {
     "data": {
      "text/html": [
       "<div>\n",
       "<style scoped>\n",
       "    .dataframe tbody tr th:only-of-type {\n",
       "        vertical-align: middle;\n",
       "    }\n",
       "\n",
       "    .dataframe tbody tr th {\n",
       "        vertical-align: top;\n",
       "    }\n",
       "\n",
       "    .dataframe thead th {\n",
       "        text-align: right;\n",
       "    }\n",
       "</style>\n",
       "<table border=\"1\" class=\"dataframe\">\n",
       "  <thead>\n",
       "    <tr style=\"text-align: right;\">\n",
       "      <th></th>\n",
       "      <th>Fecha</th>\n",
       "      <th>Dólar</th>\n",
       "    </tr>\n",
       "  </thead>\n",
       "  <tbody>\n",
       "    <tr>\n",
       "      <th>0</th>\n",
       "      <td>2010-01-04</td>\n",
       "      <td>507.1</td>\n",
       "    </tr>\n",
       "  </tbody>\n",
       "</table>\n",
       "</div>"
      ],
      "text/plain": [
       "       Fecha  Dólar\n",
       "0 2010-01-04  507.1"
      ]
     },
     "execution_count": 90,
     "metadata": {},
     "output_type": "execute_result"
    }
   ],
   "source": [
    "chp_usd[\"Dia\"] = chp_usd[\"Dia\"].apply(zero_padded_date)\n",
    "chp_usd[\"Fecha\"] = pd.to_datetime(chp_usd[\"Dia\"], format=\"%m/%d/%Y\")\n",
    "chp_usd = chp_usd[[\"Fecha\", \"Dólar\"]]\n",
    "chp_usd.head(1)"
   ]
  },
  {
   "cell_type": "code",
   "execution_count": 91,
   "metadata": {},
   "outputs": [
    {
     "data": {
      "text/html": [
       "<div>\n",
       "<style scoped>\n",
       "    .dataframe tbody tr th:only-of-type {\n",
       "        vertical-align: middle;\n",
       "    }\n",
       "\n",
       "    .dataframe tbody tr th {\n",
       "        vertical-align: top;\n",
       "    }\n",
       "\n",
       "    .dataframe thead th {\n",
       "        text-align: right;\n",
       "    }\n",
       "</style>\n",
       "<table border=\"1\" class=\"dataframe\">\n",
       "  <thead>\n",
       "    <tr style=\"text-align: right;\">\n",
       "      <th></th>\n",
       "      <th>Fecha</th>\n",
       "      <th>IPC</th>\n",
       "    </tr>\n",
       "  </thead>\n",
       "  <tbody>\n",
       "    <tr>\n",
       "      <th>0</th>\n",
       "      <td>1928-03-01</td>\n",
       "      <td>0.0</td>\n",
       "    </tr>\n",
       "  </tbody>\n",
       "</table>\n",
       "</div>"
      ],
      "text/plain": [
       "       Fecha  IPC\n",
       "0 1928-03-01  0.0"
      ]
     },
     "execution_count": 91,
     "metadata": {},
     "output_type": "execute_result"
    }
   ],
   "source": [
    "ipc[\"Fecha\"] = ipc[\"Fecha\"].apply(zero_padded_date)\n",
    "ipc[\"Fecha\"] = pd.to_datetime(ipc[\"Fecha\"], format=\"%m/%d/%Y\")\n",
    "ipc = ipc[[\"Fecha\", \"IPC\"]]\n",
    "ipc.head(1)"
   ]
  },
  {
   "cell_type": "code",
   "execution_count": 92,
   "metadata": {},
   "outputs": [
    {
     "data": {
      "text/html": [
       "<div>\n",
       "<style scoped>\n",
       "    .dataframe tbody tr th:only-of-type {\n",
       "        vertical-align: middle;\n",
       "    }\n",
       "\n",
       "    .dataframe tbody tr th {\n",
       "        vertical-align: top;\n",
       "    }\n",
       "\n",
       "    .dataframe thead th {\n",
       "        text-align: right;\n",
       "    }\n",
       "</style>\n",
       "<table border=\"1\" class=\"dataframe\">\n",
       "  <thead>\n",
       "    <tr style=\"text-align: right;\">\n",
       "      <th></th>\n",
       "      <th>Fecha</th>\n",
       "      <th>IMACEC</th>\n",
       "    </tr>\n",
       "  </thead>\n",
       "  <tbody>\n",
       "    <tr>\n",
       "      <th>0</th>\n",
       "      <td>2010-01-01</td>\n",
       "      <td>2.0</td>\n",
       "    </tr>\n",
       "  </tbody>\n",
       "</table>\n",
       "</div>"
      ],
      "text/plain": [
       "       Fecha  IMACEC\n",
       "0 2010-01-01     2.0"
      ]
     },
     "execution_count": 92,
     "metadata": {},
     "output_type": "execute_result"
    }
   ],
   "source": [
    "imacec[\"Fecha\"] = imacec[\"Fecha\"].apply(zero_padded_date)\n",
    "imacec[\"Fecha\"] = pd.to_datetime(imacec[\"Fecha\"], format=\"%m/%d/%Y\")\n",
    "imacec = imacec[[\"Fecha\", \"IMACEC\"]]\n",
    "imacec.head(1)"
   ]
  },
  {
   "cell_type": "code",
   "execution_count": 93,
   "metadata": {},
   "outputs": [
    {
     "data": {
      "text/html": [
       "<div>\n",
       "<style scoped>\n",
       "    .dataframe tbody tr th:only-of-type {\n",
       "        vertical-align: middle;\n",
       "    }\n",
       "\n",
       "    .dataframe tbody tr th {\n",
       "        vertical-align: top;\n",
       "    }\n",
       "\n",
       "    .dataframe thead th {\n",
       "        text-align: right;\n",
       "    }\n",
       "</style>\n",
       "<table border=\"1\" class=\"dataframe\">\n",
       "  <thead>\n",
       "    <tr style=\"text-align: right;\">\n",
       "      <th></th>\n",
       "      <th>Fecha</th>\n",
       "      <th>PIB (MM)</th>\n",
       "    </tr>\n",
       "  </thead>\n",
       "  <tbody>\n",
       "    <tr>\n",
       "      <th>0</th>\n",
       "      <td>2010-03-01</td>\n",
       "      <td>27,890</td>\n",
       "    </tr>\n",
       "  </tbody>\n",
       "</table>\n",
       "</div>"
      ],
      "text/plain": [
       "       Fecha PIB (MM)\n",
       "0 2010-03-01   27,890"
      ]
     },
     "execution_count": 93,
     "metadata": {},
     "output_type": "execute_result"
    }
   ],
   "source": [
    "pib[\"Fecha\"] = pib[\"Fecha\"].apply(zero_padded_date)\n",
    "pib[\"Fecha\"] = pd.to_datetime(pib[\"Fecha\"], format=\"%m/%d/%Y\")\n",
    "pib = pib[[\"Fecha\", \"PIB (MM)\"]]\n",
    "pib.head(1)"
   ]
  },
  {
   "cell_type": "code",
   "execution_count": 94,
   "metadata": {},
   "outputs": [
    {
     "data": {
      "text/html": [
       "<div>\n",
       "<style scoped>\n",
       "    .dataframe tbody tr th:only-of-type {\n",
       "        vertical-align: middle;\n",
       "    }\n",
       "\n",
       "    .dataframe tbody tr th {\n",
       "        vertical-align: top;\n",
       "    }\n",
       "\n",
       "    .dataframe thead th {\n",
       "        text-align: right;\n",
       "    }\n",
       "</style>\n",
       "<table border=\"1\" class=\"dataframe\">\n",
       "  <thead>\n",
       "    <tr style=\"text-align: right;\">\n",
       "      <th></th>\n",
       "      <th>Fecha</th>\n",
       "      <th>TCM</th>\n",
       "    </tr>\n",
       "  </thead>\n",
       "  <tbody>\n",
       "    <tr>\n",
       "      <th>0</th>\n",
       "      <td>2010-01-04</td>\n",
       "      <td>103.41</td>\n",
       "    </tr>\n",
       "  </tbody>\n",
       "</table>\n",
       "</div>"
      ],
      "text/plain": [
       "       Fecha     TCM\n",
       "0 2010-01-04  103.41"
      ]
     },
     "execution_count": 94,
     "metadata": {},
     "output_type": "execute_result"
    }
   ],
   "source": [
    "tcm[\"Fecha\"] = tcm[\"Fecha\"].apply(zero_padded_date)\n",
    "tcm[\"Fecha\"] = pd.to_datetime(tcm[\"Fecha\"], format=\"%m/%d/%Y\")\n",
    "tcm = tcm[[\"Fecha\", \"TCM\"]]\n",
    "tcm.head(1)"
   ]
  },
  {
   "cell_type": "code",
   "execution_count": 95,
   "metadata": {},
   "outputs": [
    {
     "data": {
      "text/html": [
       "<div>\n",
       "<style scoped>\n",
       "    .dataframe tbody tr th:only-of-type {\n",
       "        vertical-align: middle;\n",
       "    }\n",
       "\n",
       "    .dataframe tbody tr th {\n",
       "        vertical-align: top;\n",
       "    }\n",
       "\n",
       "    .dataframe thead th {\n",
       "        text-align: right;\n",
       "    }\n",
       "</style>\n",
       "<table border=\"1\" class=\"dataframe\">\n",
       "  <thead>\n",
       "    <tr style=\"text-align: right;\">\n",
       "      <th></th>\n",
       "      <th>Fecha</th>\n",
       "      <th>TDN</th>\n",
       "    </tr>\n",
       "  </thead>\n",
       "  <tbody>\n",
       "    <tr>\n",
       "      <th>0</th>\n",
       "      <td>2010-03-01</td>\n",
       "      <td>9.23</td>\n",
       "    </tr>\n",
       "  </tbody>\n",
       "</table>\n",
       "</div>"
      ],
      "text/plain": [
       "       Fecha   TDN\n",
       "0 2010-03-01  9.23"
      ]
     },
     "execution_count": 95,
     "metadata": {},
     "output_type": "execute_result"
    }
   ],
   "source": [
    "tdn[\"Fecha\"] = tdn[\"Fecha\"].apply(zero_padded_date)\n",
    "tdn[\"Fecha\"] = pd.to_datetime(tdn[\"Fecha\"], format=\"%m/%d/%Y\")\n",
    "tdn = tdn[[\"Fecha\", \"TDN\"]]\n",
    "tdn.head(1)"
   ]
  },
  {
   "cell_type": "code",
   "execution_count": 96,
   "metadata": {},
   "outputs": [
    {
     "data": {
      "text/html": [
       "<div>\n",
       "<style scoped>\n",
       "    .dataframe tbody tr th:only-of-type {\n",
       "        vertical-align: middle;\n",
       "    }\n",
       "\n",
       "    .dataframe tbody tr th {\n",
       "        vertical-align: top;\n",
       "    }\n",
       "\n",
       "    .dataframe thead th {\n",
       "        text-align: right;\n",
       "    }\n",
       "</style>\n",
       "<table border=\"1\" class=\"dataframe\">\n",
       "  <thead>\n",
       "    <tr style=\"text-align: right;\">\n",
       "      <th></th>\n",
       "      <th>Fecha</th>\n",
       "      <th>UF</th>\n",
       "    </tr>\n",
       "  </thead>\n",
       "  <tbody>\n",
       "    <tr>\n",
       "      <th>0</th>\n",
       "      <td>2010-01-01</td>\n",
       "      <td>20,939.49</td>\n",
       "    </tr>\n",
       "  </tbody>\n",
       "</table>\n",
       "</div>"
      ],
      "text/plain": [
       "       Fecha         UF\n",
       "0 2010-01-01  20,939.49"
      ]
     },
     "execution_count": 96,
     "metadata": {},
     "output_type": "execute_result"
    }
   ],
   "source": [
    "uf[\"Fecha\"] = uf[\"Fecha\"].apply(zero_padded_date)\n",
    "uf[\"Fecha\"] = pd.to_datetime(uf[\"Fecha\"], format=\"%m/%d/%Y\")\n",
    "uf = uf[[\"Fecha\", \"UF\"]]\n",
    "uf.head(1)"
   ]
  },
  {
   "cell_type": "markdown",
   "metadata": {},
   "source": [
    "A continuación, pasaremos a unir todas las columnas en un único DataFrame utilizando como valor clave la fecha. Cuidando además de no eliminar ninguna fila en el proceso."
   ]
  },
  {
   "cell_type": "code",
   "execution_count": 97,
   "metadata": {},
   "outputs": [
    {
     "data": {
      "text/html": [
       "<div>\n",
       "<style scoped>\n",
       "    .dataframe tbody tr th:only-of-type {\n",
       "        vertical-align: middle;\n",
       "    }\n",
       "\n",
       "    .dataframe tbody tr th {\n",
       "        vertical-align: top;\n",
       "    }\n",
       "\n",
       "    .dataframe thead th {\n",
       "        text-align: right;\n",
       "    }\n",
       "</style>\n",
       "<table border=\"1\" class=\"dataframe\">\n",
       "  <thead>\n",
       "    <tr style=\"text-align: right;\">\n",
       "      <th></th>\n",
       "      <th>Dólar</th>\n",
       "      <th>IPC</th>\n",
       "      <th>IMACEC</th>\n",
       "      <th>PIB (MM)</th>\n",
       "      <th>TCM</th>\n",
       "      <th>TDN</th>\n",
       "      <th>UF</th>\n",
       "    </tr>\n",
       "    <tr>\n",
       "      <th>Fecha</th>\n",
       "      <th></th>\n",
       "      <th></th>\n",
       "      <th></th>\n",
       "      <th></th>\n",
       "      <th></th>\n",
       "      <th></th>\n",
       "      <th></th>\n",
       "    </tr>\n",
       "  </thead>\n",
       "  <tbody>\n",
       "    <tr>\n",
       "      <th>2010-01-01</th>\n",
       "      <td>507.1</td>\n",
       "      <td>0.5</td>\n",
       "      <td>2.0</td>\n",
       "      <td>27,890</td>\n",
       "      <td>103.41</td>\n",
       "      <td>9.23</td>\n",
       "      <td>20,939.49</td>\n",
       "    </tr>\n",
       "    <tr>\n",
       "      <th>2010-01-02</th>\n",
       "      <td>507.1</td>\n",
       "      <td>0.5</td>\n",
       "      <td>2.0</td>\n",
       "      <td>27,890</td>\n",
       "      <td>103.41</td>\n",
       "      <td>9.23</td>\n",
       "      <td>20,936.11</td>\n",
       "    </tr>\n",
       "    <tr>\n",
       "      <th>2010-01-03</th>\n",
       "      <td>507.1</td>\n",
       "      <td>0.5</td>\n",
       "      <td>2.0</td>\n",
       "      <td>27,890</td>\n",
       "      <td>103.41</td>\n",
       "      <td>9.23</td>\n",
       "      <td>20,932.72</td>\n",
       "    </tr>\n",
       "    <tr>\n",
       "      <th>2010-01-04</th>\n",
       "      <td>507.1</td>\n",
       "      <td>0.5</td>\n",
       "      <td>2.0</td>\n",
       "      <td>27,890</td>\n",
       "      <td>103.41</td>\n",
       "      <td>9.23</td>\n",
       "      <td>20,929.34</td>\n",
       "    </tr>\n",
       "    <tr>\n",
       "      <th>2010-01-05</th>\n",
       "      <td>505.7</td>\n",
       "      <td>0.5</td>\n",
       "      <td>2.0</td>\n",
       "      <td>27,890</td>\n",
       "      <td>103.56</td>\n",
       "      <td>9.23</td>\n",
       "      <td>20,925.95</td>\n",
       "    </tr>\n",
       "  </tbody>\n",
       "</table>\n",
       "</div>"
      ],
      "text/plain": [
       "            Dólar  IPC  IMACEC PIB (MM)     TCM   TDN         UF\n",
       "Fecha                                                           \n",
       "2010-01-01  507.1  0.5     2.0   27,890  103.41  9.23  20,939.49\n",
       "2010-01-02  507.1  0.5     2.0   27,890  103.41  9.23  20,936.11\n",
       "2010-01-03  507.1  0.5     2.0   27,890  103.41  9.23  20,932.72\n",
       "2010-01-04  507.1  0.5     2.0   27,890  103.41  9.23  20,929.34\n",
       "2010-01-05  505.7  0.5     2.0   27,890  103.56  9.23  20,925.95"
      ]
     },
     "execution_count": 97,
     "metadata": {},
     "output_type": "execute_result"
    }
   ],
   "source": [
    "vme = date_range.set_index(\"Fecha\").join(chp_usd.set_index(\"Fecha\"), on=\"Fecha\", how=\"left\")\n",
    "vme = vme.join(ipc.set_index(\"Fecha\"), on=\"Fecha\", how=\"left\")\n",
    "vme = vme.join(imacec.set_index(\"Fecha\"), on=\"Fecha\", how=\"left\")\n",
    "vme = vme.join(pib.set_index(\"Fecha\"), on=\"Fecha\", how=\"left\")\n",
    "vme = vme.join(tcm.set_index(\"Fecha\"), on=\"Fecha\", how=\"left\")\n",
    "vme = vme.join(tdn.set_index(\"Fecha\"), on=\"Fecha\", how=\"left\")\n",
    "vme = vme.join(uf.set_index(\"Fecha\"), on=\"Fecha\", how=\"left\")\n",
    "vme = vme.fillna(method=\"ffill\").fillna(method=\"bfill\")\n",
    "vme.head()"
   ]
  },
  {
   "cell_type": "markdown",
   "metadata": {},
   "source": [
    "Ahora comprobemos el tipo de datos resultantes y si existen o no valores null."
   ]
  },
  {
   "cell_type": "code",
   "execution_count": 98,
   "metadata": {},
   "outputs": [
    {
     "name": "stdout",
     "output_type": "stream",
     "text": [
      "<class 'pandas.core.frame.DataFrame'>\n",
      "DatetimeIndex: 4416 entries, 2010-01-01 to 2022-02-02\n",
      "Data columns (total 7 columns):\n",
      " #   Column    Non-Null Count  Dtype  \n",
      "---  ------    --------------  -----  \n",
      " 0   Dólar     4416 non-null   float64\n",
      " 1   IPC       4416 non-null   float64\n",
      " 2   IMACEC    4416 non-null   float64\n",
      " 3   PIB (MM)  4416 non-null   object \n",
      " 4   TCM       4416 non-null   float64\n",
      " 5   TDN       4416 non-null   float64\n",
      " 6   UF        4416 non-null   object \n",
      "dtypes: float64(5), object(2)\n",
      "memory usage: 276.0+ KB\n"
     ]
    }
   ],
   "source": [
    "vme.info()"
   ]
  },
  {
   "cell_type": "markdown",
   "metadata": {},
   "source": [
    "Podemos observar que dos de las columnas tiene \"object\" como tipo de dato. Aunque por su valores podemos asumir que se trata de datos numéricos. Vamos a hacer la conversión oportuna de estos tipos de datos."
   ]
  },
  {
   "cell_type": "code",
   "execution_count": 99,
   "metadata": {},
   "outputs": [],
   "source": [
    "vme[\"PIB (MM)\"] = vme[\"PIB (MM)\"].str.replace(\",\", \"\").astype(float)\n",
    "vme[\"UF\"] = vme[\"UF\"].str.replace(\",\", \"\").astype(float)"
   ]
  },
  {
   "cell_type": "markdown",
   "metadata": {},
   "source": [
    "Finalmente, haremos algunos ajustes para unificar los títulos de las columnas. Evitaremos utilizar caracteres especiales, tales como tildes. Y evitaremos colocar entre paréntesis las unidades."
   ]
  },
  {
   "cell_type": "code",
   "execution_count": 100,
   "metadata": {},
   "outputs": [
    {
     "data": {
      "text/html": [
       "<div>\n",
       "<style scoped>\n",
       "    .dataframe tbody tr th:only-of-type {\n",
       "        vertical-align: middle;\n",
       "    }\n",
       "\n",
       "    .dataframe tbody tr th {\n",
       "        vertical-align: top;\n",
       "    }\n",
       "\n",
       "    .dataframe thead th {\n",
       "        text-align: right;\n",
       "    }\n",
       "</style>\n",
       "<table border=\"1\" class=\"dataframe\">\n",
       "  <thead>\n",
       "    <tr style=\"text-align: right;\">\n",
       "      <th></th>\n",
       "      <th>USDCHP</th>\n",
       "      <th>IPC</th>\n",
       "      <th>IMACEC</th>\n",
       "      <th>PIB</th>\n",
       "      <th>TCM</th>\n",
       "      <th>TDN</th>\n",
       "      <th>UF</th>\n",
       "    </tr>\n",
       "    <tr>\n",
       "      <th>Fecha</th>\n",
       "      <th></th>\n",
       "      <th></th>\n",
       "      <th></th>\n",
       "      <th></th>\n",
       "      <th></th>\n",
       "      <th></th>\n",
       "      <th></th>\n",
       "    </tr>\n",
       "  </thead>\n",
       "  <tbody>\n",
       "    <tr>\n",
       "      <th>2010-01-01</th>\n",
       "      <td>507.1</td>\n",
       "      <td>0.5</td>\n",
       "      <td>2.0</td>\n",
       "      <td>27890.0</td>\n",
       "      <td>103.41</td>\n",
       "      <td>9.23</td>\n",
       "      <td>20939.49</td>\n",
       "    </tr>\n",
       "  </tbody>\n",
       "</table>\n",
       "</div>"
      ],
      "text/plain": [
       "            USDCHP  IPC  IMACEC      PIB     TCM   TDN        UF\n",
       "Fecha                                                           \n",
       "2010-01-01   507.1  0.5     2.0  27890.0  103.41  9.23  20939.49"
      ]
     },
     "execution_count": 100,
     "metadata": {},
     "output_type": "execute_result"
    }
   ],
   "source": [
    "vme.rename(columns={\"Dólar\": \"USDCHP\", \"PIB (MM)\": \"PIB\"}, inplace=True)\n",
    "vme.head(1)"
   ]
  },
  {
   "cell_type": "markdown",
   "metadata": {},
   "source": [
    "## Guardar datos procesados\n",
    "\n",
    "Utilizaremos HDFS (Hadoop Distributed File System) para crear una base de datos procesados. Esto facilitará la escalabilidad de uso de los datos a medida que su volumen aumente.\n"
   ]
  },
  {
   "cell_type": "code",
   "execution_count": 101,
   "metadata": {},
   "outputs": [],
   "source": [
    "vme.to_hdf(\"Data/data.h5\", key=\"vme\")"
   ]
  }
 ],
 "metadata": {
  "colab": {
   "authorship_tag": "ABX9TyNALb6M4raZV/wQwyLDd86U",
   "collapsed_sections": [],
   "name": "01_data_cleaning.ipynb",
   "provenance": [],
   "toc_visible": true
  },
  "kernelspec": {
   "display_name": "Python 3 (ipykernel)",
   "language": "python",
   "name": "python3"
  },
  "language_info": {
   "codemirror_mode": {
    "name": "ipython",
    "version": 3
   },
   "file_extension": ".py",
   "mimetype": "text/x-python",
   "name": "python",
   "nbconvert_exporter": "python",
   "pygments_lexer": "ipython3",
   "version": "3.7.9"
  }
 },
 "nbformat": 4,
 "nbformat_minor": 4
}
